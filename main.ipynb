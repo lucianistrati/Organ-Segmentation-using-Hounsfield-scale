{
 "cells": [
  {
   "cell_type": "code",
   "execution_count": 1,
   "metadata": {
    "pycharm": {
     "is_executing": false
    }
   },
   "outputs": [],
   "source": [
    "import numpy as np\n",
    "import matplotlib.pyplot as plt\n",
    "import tensorflow as tf\n",
    "import PIL\n"
   ]
  },
  {
   "cell_type": "code",
   "execution_count": 2,
   "metadata": {
    "pycharm": {
     "is_executing": false
    }
   },
   "outputs": [],
   "source": [
    "import seaborn as sns"
   ]
  },
  {
   "cell_type": "code",
   "execution_count": 3,
   "metadata": {
    "pycharm": {
     "is_executing": false
    }
   },
   "outputs": [],
   "source": [
    "red =  (255, 0, 0, 255) # vom folosi culoarea rosu pentru segmentarea data in problema in input\n",
    "green =  (0, 255, 0, 255) #vom folosi culoarea verde pentru segmentarea noastra proprie"
   ]
  },
  {
   "cell_type": "code",
   "execution_count": 4,
   "metadata": {
    "pycharm": {
     "is_executing": false
    }
   },
   "outputs": [],
   "source": [
    "black = (0, 0, 0 , 255)\n",
    "white = (255, 255, 255, 255)"
   ]
  },
  {
   "cell_type": "code",
   "execution_count": 5,
   "metadata": {
    "pycharm": {
     "is_executing": false
    }
   },
   "outputs": [],
   "source": [
    "import os"
   ]
  },
  {
   "cell_type": "code",
   "execution_count": 6,
   "metadata": {
    "pycharm": {
     "is_executing": false
    }
   },
   "outputs": [
    {
     "name": "stdout",
     "output_type": "stream",
     "text": [
      "The next 8 files were uploaded\n",
      "C:\\Users\\Istrati Lucian\\Desktop\\Proiect Segmentare Organe\\input1\\107-HU.in\n",
      "C:\\Users\\Istrati Lucian\\Desktop\\Proiect Segmentare Organe\\input1\\107-seg.in\n",
      "C:\\Users\\Istrati Lucian\\Desktop\\Proiect Segmentare Organe\\input2\\89-HU.in\n",
      "C:\\Users\\Istrati Lucian\\Desktop\\Proiect Segmentare Organe\\input2\\89-seg.in\n",
      "C:\\Users\\Istrati Lucian\\Desktop\\Proiect Segmentare Organe\\input3\\121-HU.in\n",
      "C:\\Users\\Istrati Lucian\\Desktop\\Proiect Segmentare Organe\\input3\\121-seg.in\n",
      "C:\\Users\\Istrati Lucian\\Desktop\\Proiect Segmentare Organe\\input4\\187-HU.in\n",
      "C:\\Users\\Istrati Lucian\\Desktop\\Proiect Segmentare Organe\\input4\\187-seg.in\n",
      "The minimum and maximal values for each interval are:\n",
      "[-3024 ; 1601]\n",
      "[-3024 ; 1415]\n",
      "[-3024 ; 1505]\n",
      "[-3024 ; 1337]\n"
     ]
    }
   ],
   "source": [
    "path = \"C:\\\\Users\\\\Istrati Lucian\\Desktop\\Proiect Segmentare Organe\"\n",
    "nameFolder = \"\\\\input\"\n",
    "\n",
    "matrixIndexes = [107, 89, 121, 187]\n",
    "\n",
    "hounsfieldINSuffix = \"-HU.in\"\n",
    "segmentationINSuffix = \"-seg.in\"\n",
    "\n",
    "hounsfieldMatrices = []\n",
    "segmentationMatrices = []\n",
    "\n",
    "hounsfieldMatrixPaths = []\n",
    "segmentationMatrixPaths = []\n",
    "\n",
    "matrixDimension = 512 \n",
    "\"\"\"\n",
    "analizand imaginile si  numarul de caractere din fisierele din input am ajuns la \n",
    "concluzia ca dimensiunea matricilor din input este de 512 pe 512\n",
    "\"\"\"\n",
    "\n",
    "minimalValues = [1e9] * 4\n",
    "maximalValues = [-1e9] * 4\n",
    "\n",
    "print(\"The next 8 files were uploaded\")\n",
    "for i in range(1,5):#from 1 to 4, as inputs are\n",
    "    \n",
    "    newNameFolder = nameFolder + str(i)\n",
    "    newPath = path + newNameFolder \n",
    "    \n",
    "    hounsfieldMatrixPath = newPath +\"\\\\\"+ str(matrixIndexes[i-1]) + hounsfieldINSuffix # calea pentru matricea cu valorile Hounsfield\n",
    "    segmentationMatrixPath = newPath +\"\\\\\"+ str(matrixIndexes[i-1]) + segmentationINSuffix # calea pentru matricea cu segmentarea initiala\n",
    "   \n",
    "    print(hounsfieldMatrixPath)\n",
    "    print(segmentationMatrixPath)\n",
    "    \n",
    "    hounsfieldMatrixPaths.append(hounsfieldMatrixPath)\n",
    "    segmentationMatrixPaths.append(segmentationMatrixPath)\n",
    "    \n",
    "    hounsfieldInput = np.loadtxt(hounsfieldMatrixPath, dtype='i', delimiter=' ')\n",
    "    segmentationInput = np.loadtxt(segmentationMatrixPath, dtype='i', delimiter=' ')\n",
    "    \n",
    "    hounsfieldMatrices.append(hounsfieldInput)\n",
    "    segmentationMatrices.append(segmentationInput)\n",
    "\n",
    "print(\"The minimum and maximal values for each interval are:\")\n",
    "for i in range(4):\n",
    "    for j in range(matrixDimension):\n",
    "        for k in range(matrixDimension):\n",
    "            minimalValues[i]=min(minimalValues[i],hounsfieldMatrices[i][j][k])\n",
    "            maximalValues[i]=max(maximalValues[i],hounsfieldMatrices[i][j][k])\n",
    "    print(\"[{} ; {}]\".format(minimalValues[i],maximalValues[i]))"
   ]
  },
  {
   "cell_type": "code",
   "execution_count": 7,
   "metadata": {
    "pycharm": {
     "is_executing": false
    }
   },
   "outputs": [
    {
     "name": "stdout",
     "output_type": "stream",
     "text": [
      "C:\\Users\\Istrati Lucian\\Desktop\\Proiect Segmentare Organe\\input1\\107-HU2.png\n",
      "C:\\Users\\Istrati Lucian\\Desktop\\Proiect Segmentare Organe\\input1\\107-seg2.png\n",
      "C:\\Users\\Istrati Lucian\\Desktop\\Proiect Segmentare Organe\\input2\\89-HU2.png\n",
      "C:\\Users\\Istrati Lucian\\Desktop\\Proiect Segmentare Organe\\input2\\89-seg2.png\n",
      "C:\\Users\\Istrati Lucian\\Desktop\\Proiect Segmentare Organe\\input3\\121-HU2.png\n",
      "C:\\Users\\Istrati Lucian\\Desktop\\Proiect Segmentare Organe\\input3\\121-seg2.png\n",
      "C:\\Users\\Istrati Lucian\\Desktop\\Proiect Segmentare Organe\\input4\\187-HU2.png\n",
      "C:\\Users\\Istrati Lucian\\Desktop\\Proiect Segmentare Organe\\input4\\187-seg2.png\n"
     ]
    }
   ],
   "source": [
    "\"\"\"\n",
    "Partea de conversie a imaginilor din input din in in png\n",
    "\"\"\"\n",
    "\n",
    "hounsfieldImages = []\n",
    "segmentationImages = []\n",
    "\n",
    "hounsfieldImagesPaths = []\n",
    "segmentationImagesPaths = []\n",
    "\n",
    "hounsfieldPNGSuffix = \"-HU2.png\"\n",
    "segmentationPNGSuffix = \"-seg2.png\"\n",
    "\n",
    "for i in range(4):\n",
    "    \n",
    "    newPathHounsfield = hounsfieldMatrixPaths[i][:65]\n",
    "    newPathSegmentation = segmentationMatrixPaths[i][:65]\n",
    "    \n",
    "    index = hounsfieldMatrixPaths[i][65:68] if i!=1 else hounsfieldMatrixPaths[i][65:67]\n",
    "    \n",
    "    hounsfieldOutput = newPathHounsfield + index + hounsfieldPNGSuffix\n",
    "    segmentationOutput = newPathSegmentation + index + segmentationPNGSuffix\n",
    "    \n",
    "    print(hounsfieldOutput)\n",
    "    print(segmentationOutput)\n",
    "    \n",
    "    \n",
    "    hounsfieldImagesPaths.append(hounsfieldOutput)\n",
    "    segmentationImagesPaths.append(segmentationOutput)"
   ]
  },
  {
   "cell_type": "code",
   "execution_count": 8,
   "metadata": {
    "pycharm": {
     "is_executing": false
    }
   },
   "outputs": [],
   "source": [
    "from PIL import Image\n",
    "from matplotlib.pyplot import cm\n",
    "from sklearn.preprocessing import StandardScaler\n",
    "\n",
    "#Creation of Segmentation Images\n",
    "\n",
    "for i in range(4):\n",
    "    plt.imsave(segmentationImagesPaths[i], segmentationMatrices[i], cmap=\"Greys\")\n",
    "    \n",
    "    \n",
    "#Scaling from Hounsfield Interval to 0-255 for unsigned char \n",
    "for i in range(4):\n",
    "    for j in range(matrixDimension):\n",
    "        for k in range(matrixDimension):\n",
    "            aux = hounsfieldMatrices[i][j][k]\n",
    "            aux = (255 * (aux - minimalValues[i]))/ (maximalValues[i] - minimalValues[i])\n",
    "            #Rescaling - min-max Normalization\n",
    "\n",
    "\n",
    "#Creation of Hounsfield Images\n",
    "for i in range(4):\n",
    "    plt.imsave(hounsfieldImagesPaths[i], hounsfieldMatrices[i], cmap=\"Greys\")\n",
    "    #himg.save()"
   ]
  },
  {
   "cell_type": "code",
   "execution_count": 9,
   "metadata": {
    "pycharm": {
     "is_executing": false
    }
   },
   "outputs": [],
   "source": [
    "def convertOptToPNG(outputMatrices,outputMatrixPaths):\n",
    "    for i in range(4):\n",
    "        plt.imsave(outputMatrixPaths[i],outputMatrices[i],cmap=\"Greys\")"
   ]
  },
  {
   "cell_type": "code",
   "execution_count": 10,
   "metadata": {
    "pycharm": {
     "is_executing": false
    }
   },
   "outputs": [],
   "source": [
    "def calculateIntersection(firstMatrix,secondMatrix):\n",
    "    matrixDimension = 512 \n",
    "    oneUnion, OneIntersection = 0,0\n",
    "    for i in range(matrixDimension):\n",
    "        for j in range(matrixDimension):\n",
    "            if firstMatrix[i][j]==1 or secondMatrix[i][j]==1:\n",
    "                oneUnion+=1\n",
    "            if secondMatrix[i][j]==1 and secondMatrix[i][j]==1:\n",
    "                oneIntersection+=1\n",
    "    print(\"The intersection over union percentage is {}\".format(oneIntersection/oneUnion))"
   ]
  },
  {
   "cell_type": "code",
   "execution_count": 11,
   "metadata": {
    "pycharm": {
     "is_executing": false
    },
    "scrolled": true
   },
   "outputs": [],
   "source": [
    "def createCompare(hounsfieldImagesPaths):\n",
    "    compareSuffix = \"-compare2.png\"\n",
    "    comparePNGPaths=[]\n",
    "    for i in range(4):\n",
    "        auxiliaryPath = hounsfieldImagesPaths[i][:-8]\n",
    "        auxiliaryPath+=compareSuffix\n",
    "        comparePNGPaths.append(auxiliaryPath)\n",
    "    print(\"The following {} PNG images were created: \".format(len(comparePNGPaths)))\n",
    "    for i in range(4):\n",
    "        print(comparePNGPaths[i])\n",
    "        plt.imsave(comparePNGPaths[i],hounsfieldMatrices[i],cmap=\"Greys\")\n",
    "    return comparePNGPaths"
   ]
  },
  {
   "cell_type": "code",
   "execution_count": 12,
   "metadata": {},
   "outputs": [],
   "source": [
    "image_numbers = [107,89,121,187]\n",
    "def compareColors(f,s):\n",
    "    return f[0]==s[0] and f[1]==s[1] and f[2]==s[2] and f[3]==s[3]"
   ]
  },
  {
   "cell_type": "code",
   "execution_count": 36,
   "metadata": {
    "pycharm": {
     "is_executing": false
    }
   },
   "outputs": [
    {
     "name": "stdout",
     "output_type": "stream",
     "text": [
      "The following 4 PNG images were created: \n",
      "C:\\Users\\Istrati Lucian\\Desktop\\Proiect Segmentare Organe\\input1\\107-compare2.png\n",
      "C:\\Users\\Istrati Lucian\\Desktop\\Proiect Segmentare Organe\\input2\\89-compare2.png\n",
      "C:\\Users\\Istrati Lucian\\Desktop\\Proiect Segmentare Organe\\input3\\121-compare2.png\n",
      "C:\\Users\\Istrati Lucian\\Desktop\\Proiect Segmentare Organe\\input4\\187-compare2.png\n",
      "198\n",
      "201\n"
     ]
    }
   ],
   "source": [
    "redPositions = {}\n",
    "fx=1\n",
    "fy=2\n",
    "def drawRedLineOverCompare(comparePNGPaths,segmentationImagesPaths,color): #red is the color of the doctor segmentation\n",
    "    matrixDimension = 512\n",
    "    p,q = 0,0\n",
    "    \n",
    "  \n",
    "    for i in range(4):\n",
    "        \n",
    "        myImage = Image.open(comparePNGPaths[i])\n",
    "        myImagePixeled = myImage.load()\n",
    "        \n",
    "        mySegmentation = Image.open(segmentationImagesPaths[i])\n",
    "        mySegmentationPixeled = mySegmentation.load()\n",
    "    \n",
    "        for j in range(1,matrixDimension-1):\n",
    "            for k in range(1,matrixDimension-1):\n",
    "                if compareColors(mySegmentationPixeled[j,k],black)==True:\n",
    "                    for p in range(j-1,j+2):\n",
    "                        for q in range(k-1,k+2):\n",
    "                            if p == j and q == k:\n",
    "                                continue\n",
    "                            else: \n",
    "                                if compareColors(mySegmentationPixeled[p,q], white)==True:\n",
    "                                    myImagePixeled[j,k]=color\n",
    "                                    redPositions[(i,j,k)]=True\n",
    "                                    fx=j\n",
    "                                    fy=k\n",
    "        suffix = \"-compare3.png\"\n",
    "        organHounsfieldValuesImagePath = \"C:\\\\Users\\\\Istrati Lucian\\\\Desktop\\\\Proiect Segmentare Organe\\\\input\" + str(i+1) + \"\\\\\"\n",
    "        #img.rotate(180).show()\n",
    "        plt.imsave(organHounsfieldValuesImagePath + str(image_numbers[i]) + suffix,myImage,cmap=\"Greys\")\n",
    "        myImage.show()\n",
    "        \n",
    "      # plt.imsave(comparePNGPaths[i],np.array(myImagePixeled , dtype=np.uint8 ),cmap=\"Greys\")\n",
    "       \n",
    "        \n",
    "comparePNGPaths = createCompare(hounsfieldImagesPaths)\n",
    "drawRedLineOverCompare(comparePNGPaths,segmentationImagesPaths,red)\n",
    "fx=198\n",
    "fy=201\n",
    "print(fx)\n",
    "print(fy)\n"
   ]
  },
  {
   "cell_type": "code",
   "execution_count": 15,
   "metadata": {
    "pycharm": {
     "is_executing": false
    }
   },
   "outputs": [
    {
     "name": "stdout",
     "output_type": "stream",
     "text": [
      "(255, 0, 0, 255)\n",
      "(0, 0, 0, 255)\n",
      "(255, 255, 255, 255)\n",
      "(0, 255, 0, 255)\n"
     ]
    }
   ],
   "source": [
    "print(red)\n",
    "print(black)\n",
    "print(white)\n",
    "print(green)"
   ]
  },
  {
   "cell_type": "code",
   "execution_count": 16,
   "metadata": {
    "pycharm": {
     "is_executing": false
    }
   },
   "outputs": [],
   "source": [
    "import cv2"
   ]
  },
  {
   "cell_type": "code",
   "execution_count": 17,
   "metadata": {
    "pycharm": {
     "is_executing": false
    },
    "scrolled": false
   },
   "outputs": [
    {
     "name": "stderr",
     "output_type": "stream",
     "text": [
      "C:\\ProgramData\\Anaconda3\\lib\\site-packages\\dicom\\__init__.py:53: UserWarning: \n",
      "This code is using an older version of pydicom, which is no longer \n",
      "maintained as of Jan 2017.  You can access the new pydicom features and API \n",
      "by installing `pydicom` from PyPI.\n",
      "See 'Transitioning to pydicom 1.x' section at pydicom.readthedocs.org \n",
      "for more information.\n",
      "\n",
      "  warnings.warn(msg)\n"
     ]
    }
   ],
   "source": [
    "import dicom as pdicom\n",
    "import copy"
   ]
  },
  {
   "cell_type": "code",
   "execution_count": 18,
   "metadata": {
    "pycharm": {
     "is_executing": false
    }
   },
   "outputs": [],
   "source": [
    "import pydicom\n",
    "import scipy.ndimage\n",
    "myNNImages = []"
   ]
  },
  {
   "cell_type": "code",
   "execution_count": 19,
   "metadata": {},
   "outputs": [
    {
     "data": {
      "image/png": "[encoded data removed]",
      "text/plain": [
       "<Figure size 432x288 with 2 Axes>"
      ]
     },
     "metadata": {},
     "output_type": "display_data"
    }
   ],
   "source": [
    "import cv2\n",
    "edgesImagesList = []\n",
    "#import opencv-python\n",
    "edgeImagePath = \"C:\\\\Users\\\\Istrati Lucian\\\\Desktop\\\\Proiect Segmentare Organe\\\\input1\\\\\"\n",
    "suffix = \"-HU2-Edge.png\"\n",
    "img = cv2.imread(\"C:\\\\Users\\\\Istrati Lucian\\\\Desktop\\\\Proiect Segmentare Organe\\\\input1\\\\107-HU2.png\",0)\n",
    "edges = cv2.Canny(img,100,200)\n",
    "\n",
    "plt.subplot(121),plt.imshow(img,cmap = 'gray')\n",
    "plt.title('Original Image'), plt.xticks([]), plt.yticks([])\n",
    "plt.subplot(122),plt.imshow(edges,cmap = 'gray')\n",
    "plt.title('Edge Image'), plt.xticks([]), plt.yticks([])\n",
    "\n",
    "plt.imsave(edgeImagePath + str(107) + suffix,edges,cmap=\"Greys\")\n",
    "plt.show()\n",
    "edgesImagesList.append(edgeImagePath)\n",
    "\n"
   ]
  },
  {
   "cell_type": "code",
   "execution_count": 20,
   "metadata": {},
   "outputs": [
    {
     "data": {
      "image/png": "[encoded data removed]",
      "text/plain": [
       "<Figure size 432x288 with 2 Axes>"
      ]
     },
     "metadata": {},
     "output_type": "display_data"
    }
   ],
   "source": [
    "edgeImagePath = \"C:\\\\Users\\\\Istrati Lucian\\\\Desktop\\\\Proiect Segmentare Organe\\\\input2\\\\\"\n",
    "img = cv2.imread(\"C:\\\\Users\\\\Istrati Lucian\\\\Desktop\\\\Proiect Segmentare Organe\\\\input2\\\\89-HU2.png\",0)\n",
    "edges = cv2.Canny(img,100,200)\n",
    "\n",
    "plt.subplot(121),plt.imshow(img,cmap = 'gray')\n",
    "plt.title('Original Image'), plt.xticks([]), plt.yticks([])\n",
    "plt.subplot(122),plt.imshow(edges,cmap = 'gray')\n",
    "plt.title('Edge Image'), plt.xticks([]), plt.yticks([])\n",
    "\n",
    "\n",
    "plt.imsave(edgeImagePath + str(89) + suffix,edges,cmap=\"Greys\")\n",
    "plt.show()\n",
    "edgesImagesList.append(edgeImagePath)"
   ]
  },
  {
   "cell_type": "code",
   "execution_count": 21,
   "metadata": {},
   "outputs": [
    {
     "data": {
      "image/png": "[encoded data removed]",
      "text/plain": [
       "<Figure size 432x288 with 2 Axes>"
      ]
     },
     "metadata": {},
     "output_type": "display_data"
    }
   ],
   "source": [
    "edgeImagePath = \"C:\\\\Users\\\\Istrati Lucian\\\\Desktop\\\\Proiect Segmentare Organe\\\\input3\\\\\"\n",
    "img = cv2.imread(\"C:\\\\Users\\\\Istrati Lucian\\\\Desktop\\\\Proiect Segmentare Organe\\\\input3\\\\121-HU2.png\",0)\n",
    "edges = cv2.Canny(img,100,200)\n",
    "\n",
    "plt.subplot(121),plt.imshow(img,cmap = 'gray')\n",
    "plt.title('Original Image'), plt.xticks([]), plt.yticks([])\n",
    "plt.subplot(122),plt.imshow(edges,cmap = 'gray')\n",
    "plt.title('Edge Image'), plt.xticks([]), plt.yticks([])\n",
    "\n",
    "\n",
    "plt.imsave(edgeImagePath + str(121) + suffix,edges,cmap=\"Greys\")\n",
    "plt.show()\n",
    "edgesImagesList.append(edgeImagePath)"
   ]
  },
  {
   "cell_type": "code",
   "execution_count": 22,
   "metadata": {},
   "outputs": [
    {
     "data": {
      "image/png": "[encoded data removed]",
      "text/plain": [
       "<Figure size 432x288 with 2 Axes>"
      ]
     },
     "metadata": {},
     "output_type": "display_data"
    }
   ],
   "source": [
    "edgeImagePath = \"C:\\\\Users\\\\Istrati Lucian\\\\Desktop\\\\Proiect Segmentare Organe\\\\input4\\\\\"\n",
    "img = cv2.imread(\"C:\\\\Users\\\\Istrati Lucian\\\\Desktop\\\\Proiect Segmentare Organe\\\\input4\\\\187-HU2.png\",0)\n",
    "edges = cv2.Canny(img,100,200)\n",
    "\n",
    "plt.subplot(121),plt.imshow(img,cmap = 'gray')\n",
    "plt.title('Original Image'), plt.xticks([]), plt.yticks([])\n",
    "plt.subplot(122),plt.imshow(edges,cmap = 'gray')\n",
    "plt.title('Edge Image'), plt.xticks([]), plt.yticks([])\n",
    "plt.imsave(edgeImagePath + str(187) + suffix,edges,cmap=\"Greys\")\n",
    "plt.show()\n",
    "edgesImagesList.append(edgeImagePath)"
   ]
  },
  {
   "cell_type": "code",
   "execution_count": 23,
   "metadata": {},
   "outputs": [
    {
     "name": "stderr",
     "output_type": "stream",
     "text": [
      "Using TensorFlow backend.\n"
     ]
    },
    {
     "name": "stdout",
     "output_type": "stream",
     "text": [
      "x shape:  (512, 512, 4)\n",
      "x_crops shape:  (25, 100, 100, 4)\n"
     ]
    }
   ],
   "source": [
    "from PIL import Image\n",
    "import numpy as np\n",
    "from keras_unet.utils import get_patches\n",
    "\n",
    "x = np.array(Image.open(\"C:\\\\Users\\\\Istrati Lucian\\\\Desktop\\\\Proiect Segmentare Organe\\\\input1\\\\107-HU2.png\"))\n",
    "print(\"x shape: \", str(x.shape))\n",
    "\n",
    "x_crops = get_patches(\n",
    "    img_arr=x, # required - array of images to be cropped\n",
    "    size=100, # default is 256\n",
    "    stride=100) # default is 256\n",
    "\n",
    "print(\"x_crops shape: \", str(x_crops.shape))"
   ]
  },
  {
   "cell_type": "code",
   "execution_count": 24,
   "metadata": {},
   "outputs": [
    {
     "name": "stdout",
     "output_type": "stream",
     "text": [
      "{(188.7827027027027, 221.8637837837838), (168.93405405405406, 171.13945945945946), (161.21513513513514, 163.42054054054054), (133.64756756756756, 144.6745945945946)}\n",
      "{'bone': (188.7827027027027, 221.8637837837838), 'lung': (133.64756756756756, 144.6745945945946), 'soft tissue': (168.93405405405406, 171.13945945945946), 'fat': (161.21513513513514, 163.42054054054054)}\n"
     ]
    }
   ],
   "source": [
    "\n",
    "hounsfieldOrgansValues = {\n",
    "    \"bone\":(400,1000),\n",
    "    \"lung\":(-600,-400),\n",
    "    \"soft tissue\":(40,80),\n",
    "    \"fat\":(-100,-60),\n",
    "}\n",
    "mi = min(minimalValues)\n",
    "mx = max(maximalValues)\n",
    "\n",
    "for key in hounsfieldOrgansValues.keys():\n",
    "    xz = hounsfieldOrgansValues[key][0]\n",
    "    yu = hounsfieldOrgansValues[key][1]\n",
    "    xz = (255* (xz-mi))/(mx-mi)\n",
    "    yu = (255*(yu-mi))/(mx-mi)\n",
    "    hounsfieldOrgansValues[key] = (xz,yu)\n",
    "    \n",
    "organIntervals = set(hounsfieldOrgansValues.values())\n",
    "print(organIntervals)\n",
    "print(hounsfieldOrgansValues)\n",
    "hounsfieldOrgansColors = {\n",
    "    \"bone\":(0, 255, 255, 255), #aqua\n",
    "    \"lung\":(255, 255, 0, 255), # yellow \n",
    "    \"soft tissue\":(0, 0, 128, 255), # blue\n",
    "    \"fat\":(128,0,128, 255), # purple\n",
    "}\n",
    "bicolorPaths = []"
   ]
  },
  {
   "cell_type": "code",
   "execution_count": 25,
   "metadata": {},
   "outputs": [],
   "source": [
    "listFoundOrgans = []\n",
    "def SegmentAfterOrganIntervals():\n",
    "    copysubset = None\n",
    "    foundOrgans =  [[(0,0,0,255) for _ in range(513)] for _ in range(513)]\n",
    "    for i in range(4):\n",
    "        for j in range(matrixDimension):\n",
    "            for k in range(matrixDimension):\n",
    "                ok = 0\n",
    "                for subset in organIntervals:\n",
    "                    if subset[0]<=hounsfieldMatrices[i][j][k] and hounsfieldMatrices[i][j][k]<=subset[1]:\n",
    "                        for key in hounsfieldOrgansValues.keys():\n",
    "                            if hounsfieldOrgansValues[key] == subset:\n",
    "                                foundOrgans[511-j][k] = hounsfieldOrgansColors[key]\n",
    "                                ok=1\n",
    "                if ok==0:\n",
    "                    pass\n",
    "                   \n",
    "        img = Image.open(comparePNGPaths[i]) \n",
    "        pixels = img.load() # create the pixel map\n",
    "        \n",
    "        for p in range(img.size[0],-1,-1):    # for every col:\n",
    "            for q in range(img.size[1]):# For every row\n",
    "                if foundOrgans[511-q][p] == (0,0,0,255):\n",
    "                    continue #do no  set the colour accordingly\n",
    "                else:\n",
    "                    pixels[p,q] = foundOrgans[511-q][p]\n",
    "        img.show()\n",
    "        suffix = \"-HU2-organs.png\"\n",
    "        organHounsfieldValuesImagePath = \"C:\\\\Users\\\\Istrati Lucian\\\\Desktop\\\\Proiect Segmentare Organe\\\\input\" + str(i+1) + \"\\\\\"\n",
    "        #img.rotate(180).show()\n",
    "        plt.imsave(organHounsfieldValuesImagePath + str(image_numbers[i]) + suffix,img,cmap=\"Greys\")\n",
    "        listFoundOrgans.append(foundOrgans)\n",
    "    \n",
    "                        \n",
    "SegmentAfterOrganIntervals()"
   ]
  },
  {
   "cell_type": "code",
   "execution_count": 26,
   "metadata": {},
   "outputs": [],
   "source": [
    "#Overlay what we obtained from comparing pixel values using our dictionarry of intervals for certain organs to the compare image\n",
    "#import Image\n",
    "import sys\n",
    "def OverlayComparePNGandOrganSegmentedPNG():\n",
    "    for i in range(4):\n",
    "        myPath = \"C:\\\\Users\\\\Istrati Lucian\\\\Desktop\\\\Proiect Segmentare Organe\\\\input\" + str(i+1) + \"\\\\\"\n",
    "        background = Image.open(myPath+str(image_numbers[i])+\"-compare.png\")\n",
    "        overlay = Image.open(myPath+str(image_numbers[i])+\"-HU2-organs.png\")\n",
    "\n",
    "        background = background.convert(\"RGBA\")\n",
    "        overlay = overlay.convert(\"RGBA\")\n",
    "\n",
    "        new_img = Image.blend(background, overlay, 0.5)\n",
    "        new_img.save(myPath + str(image_numbers[i]) + \"overlayedOrgansWithBothSegmentations.png\",\"PNG\")\n",
    "        \n",
    "        back = Image.open(myPath+str(image_numbers[i])+\"-compare3.png\")\n",
    "        over = Image.open(myPath+str(image_numbers[i])+\"-HU2-organs.png\")\n",
    "\n",
    "        backg = back.convert(\"RGBA\")\n",
    "        over = over.convert(\"RGBA\")\n",
    "\n",
    "        new_img = Image.blend(back, over, 0.5)\n",
    "        new_img.save(myPath + str(image_numbers[i]) + \"overlayedOrgansWithTheRedSegmentations.png\",\"PNG\")\n",
    "\n",
    "OverlayComparePNGandOrganSegmentedPNG()"
   ]
  },
  {
   "cell_type": "code",
   "execution_count": 27,
   "metadata": {},
   "outputs": [
    {
     "name": "stdout",
     "output_type": "stream",
     "text": [
      "(178, 51, 51, 255)\n",
      "512\n",
      "We detected a lung and 1796 pixels that belong to it present in the medical segmentation done by the doctor in the image with the path: C:\\Users\\Istrati Lucian\\Desktop\\Proiect Segmentare Organe\\input1\\107overlayedOrgansWithTheRedSegmentations.png\n",
      "(178, 51, 51, 255)\n",
      "512\n",
      "We detected a lung and 22 pixels that belong to it present in the medical segmentation done by the doctor in the image with the path: C:\\Users\\Istrati Lucian\\Desktop\\Proiect Segmentare Organe\\input2\\89overlayedOrgansWithTheRedSegmentations.png\n",
      "(178, 51, 51, 255)\n",
      "512\n",
      "We detected a lung and 2127 pixels that belong to it present in the medical segmentation done by the doctor in the image with the path: C:\\Users\\Istrati Lucian\\Desktop\\Proiect Segmentare Organe\\input3\\121overlayedOrgansWithTheRedSegmentations.png\n",
      "(178, 51, 51, 255)\n",
      "512\n",
      "We detected a lung and 683 pixels that belong to it present in the medical segmentation done by the doctor in the image with the path: C:\\Users\\Istrati Lucian\\Desktop\\Proiect Segmentare Organe\\input4\\187overlayedOrgansWithTheRedSegmentations.png\n"
     ]
    }
   ],
   "source": [
    "\n",
    "\n",
    "def findPredominantColorInMedicalArea():\n",
    "    newRed = None\n",
    "    for i in range(4):\n",
    "        hounsCells = {\n",
    "        \"bone\":0,\n",
    "        \"lung\":0,\n",
    "        \"soft tissue\":0,\n",
    "        \"fat\":0,\n",
    "        }\n",
    "        \n",
    "        myPath = \"C:\\\\Users\\\\Istrati Lucian\\\\Desktop\\\\Proiect Segmentare Organe\\\\input\" + str(i+1) + \"\\\\\" + str(image_numbers[i]) \n",
    "        myRedSegmentationPath = myPath +\"-compare3.png\"\n",
    "        myOverlayedRedOrgans = myPath + \"overlayedOrgansWithTheRedSegmentations.png\"\n",
    "        \n",
    "        myRedImage = Image.open(myRedSegmentationPath).convert(\"RGBA\")\n",
    "        redSeg = myRedImage.load()\n",
    "        \n",
    "        img = Image.open(myOverlayedRedOrgans).convert(\"RGBA\")\n",
    "        cells = img.load()\n",
    "        \n",
    "        if i==0:\n",
    "            newRed = cells[fx,fy]\n",
    "        print(newRed)\n",
    "        isThereRed = []\n",
    "        firstRed = []\n",
    "        lastRed = []\n",
    "        for f in range(512):\n",
    "            isThereRed.append(False)\n",
    "            firstRed.append(0)\n",
    "            lastRed.append(0)\n",
    "        print(len(firstRed))\n",
    "        for p in range(img.size[0]):    # for every col\n",
    "            for q in range(img.size[1]):# For every row\n",
    "                if (i,p,q) in redPositions.keys() and redPositions[(i,p,q)]==True:\n",
    "                    isThereRed[p]=True\n",
    "                    if firstRed[p] ==0:\n",
    "                        firstRed[p]=q\n",
    "                    lastRed[p]=q\n",
    "\n",
    "        for p in range(img.size[0]):\n",
    "            if isThereRed[p]==True:\n",
    "                for q in range(firstRed[p]+1,lastRed[p]):\n",
    "                    for val in hounsfieldOrgansColors.keys():\n",
    "                        if hounsfieldOrgansColors[val] == listFoundOrgans[i][p][q]:\n",
    "                            hounsCells[val]+=1\n",
    "                            \n",
    "        max = -1\n",
    "        maxKey = \"\"\n",
    "        for key in hounsCells.keys():\n",
    "            if hounsCells[key] > max:\n",
    "                max = hounsCells[key]\n",
    "                maxKey = key\n",
    "        print(\"We detected a {} and {} pixels that belong to it present in the medical segmentation done by the doctor in the image with the path: {}\".format(maxKey,max,myOverlayedRedOrgans))\n",
    "       \n",
    "        \n",
    "\n",
    "findPredominantColorInMedicalArea()"
   ]
  },
  {
   "cell_type": "code",
   "execution_count": 28,
   "metadata": {},
   "outputs": [
    {
     "name": "stdout",
     "output_type": "stream",
     "text": [
      "['C:\\\\Users\\\\Istrati Lucian\\\\Desktop\\\\Proiect Segmentare Organe\\\\input1\\\\107-bicolor.png', 'C:\\\\Users\\\\Istrati Lucian\\\\Desktop\\\\Proiect Segmentare Organe\\\\input2\\\\89-bicolor.png', 'C:\\\\Users\\\\Istrati Lucian\\\\Desktop\\\\Proiect Segmentare Organe\\\\input3\\\\121-bicolor.png', 'C:\\\\Users\\\\Istrati Lucian\\\\Desktop\\\\Proiect Segmentare Organe\\\\input4\\\\187-bicolor.png']\n"
     ]
    }
   ],
   "source": [
    "def organInMajority(organ,indice,px,py,qx,qy):\n",
    "    orgcolor = hounsfieldOrgansColors[organ]\n",
    "    org = 0\n",
    "    nonorg = 0\n",
    "    for i in range(px,qx+1):\n",
    "        for j in range(py,qy+1):\n",
    "            if listFoundOrgans[indice][i][j]==orgcolor:\n",
    "                org+=1\n",
    "            else:\n",
    "                nonorg+=1\n",
    "    return org>nonorg\n",
    "def colorSector(organ,indice,px,py,qx,qy,copiedImage):\n",
    "    orgcolor = hounsfieldOrgansColors[organ]\n",
    "    for i in range(px,qx+1):\n",
    "        for j in range(py,qy+1):\n",
    "            copiedImage[i][j] = orgcolor\n",
    "\n",
    "def CreateOrganContour(organ):\n",
    "    m = 512\n",
    "    for v in range(4):\n",
    "        newImagePath = \"C:\\\\Users\\\\Istrati Lucian\\\\Desktop\\\\Proiect Segmentare Organe\\\\input\" + str(v+1) + \"\\\\\" + str(image_numbers[v])  +\"-bicolor.png\"\n",
    "        copiedImage = copy.deepcopy(listFoundOrgans[v])\n",
    "        col = hounsfieldOrgansColors[organ]\n",
    "        for i in range(m):\n",
    "            for j in range(m):\n",
    "                if copiedImage[i][j]==col:\n",
    "                    copiedImage[i][j]=white\n",
    "                else:\n",
    "                    copiedImage[i][j]=black\n",
    "        img = Image.open(comparePNGPaths[v])  \n",
    "        pixels = img.load() \n",
    "        \n",
    "        for p in range(img.size[0]-1,-1,-1):    # for every col:\n",
    "            for q in range(img.size[1]):# For every row\n",
    "                pixels[p,q] = copiedImage[511-q][p]\n",
    "                        \n",
    "        plt.imsave(newImagePath,img,cmap=\"Greys\")\n",
    "        bicolorPaths.append(newImagePath)\n",
    " \n",
    "CreateOrganContour(\"lung\")\n",
    "print(bicolorPaths)"
   ]
  },
  {
   "cell_type": "code",
   "execution_count": 29,
   "metadata": {},
   "outputs": [],
   "source": [
    "def mostlywhite(m,a,b,c,d):\n",
    "    w=0\n",
    "    b=0\n",
    "    for i in range(a,c+1):\n",
    "        for j in range(b,d+1):\n",
    "            if m[i][j]==white[0]:\n",
    "                w+=1\n",
    "            else:\n",
    "                b+=1\n",
    "    return w>b\n",
    "def colorwhite(m,a,b,c,d):\n",
    "    for i in range(a,c+1):\n",
    "        for j in range(b,d+1):\n",
    "            m[i][j]=white[0]\n",
    "    return m\n",
    "def nearby(A,B,p,q,new_mat):\n",
    "    for i in range(p-30,p+31):\n",
    "        for j in range(q-30,q+31):\n",
    "            A[i,j] = white[0]\n",
    "            B[i,j] = white[0]\n",
    "            new_mat[i][j] = white[0]\n",
    "    return A,B\n",
    "imagesForClustering =[]\n",
    "def OverlayBicolorPNGandOrganSegmentedPNG():\n",
    "    \n",
    "    for i in range(4):\n",
    "        myPath = \"C:\\\\Users\\\\Istrati Lucian\\\\Desktop\\\\Proiect Segmentare Organe\\\\input\" + str(i+1) + \"\\\\\" + str(image_numbers[i]) + \"-intersection.png\"\n",
    "        \n",
    "        back = Image.open(segmentationImagesPaths[i])\n",
    "        pixback = back.load()\n",
    "\n",
    "        over = Image.open(bicolorPaths[i])\n",
    "        pixover = over.load()\n",
    "        \n",
    "        \n",
    "        new_mat = [[0 for i in range(512)] for j in range(512)]\n",
    "        \n",
    "        for i in range(511):\n",
    "            for j in range(512):\n",
    "                if pixback[i,j]==black and pixover[i,j]==white:\n",
    "                    new_mat[i][j] = white[0]\n",
    "                    #pixover,pixback = nearby(pixover,pixback,i,j,new_mat)\n",
    "                else:\n",
    "                    new_mat[i][j] = black[0]        \n",
    "        \n",
    "        plt.imsave(myPath, np.array(new_mat[::-1]).reshape(512,512), cmap=cm.gray)\n",
    "        imagesForClustering.append(myPath)\n",
    "\n",
    "OverlayBicolorPNGandOrganSegmentedPNG()"
   ]
  },
  {
   "cell_type": "code",
   "execution_count": 30,
   "metadata": {},
   "outputs": [
    {
     "data": {
      "text/plain": [
       "'\\nfrom sklearn.cluster import KMeans\\nfrom sklearn.metrics import silhouette_score\\nimport numpy as np\\n\\n# Use silhouette score to find optimal number of clusters to segment the data\\nnum_clusters = np.arange(2,10)\\nresults = {}\\nfor size in num_clusters:\\n    model = KMeans(n_clusters = size).fit(data)\\n    predictions = model.predict(data)\\n    results[size] = silhouette_score(data, predictions)\\n\\nbest_size = max(results, key=results.get)\\n'"
      ]
     },
     "execution_count": 30,
     "metadata": {},
     "output_type": "execute_result"
    }
   ],
   "source": [
    "def OwnKNearestNeighbours(imagePath,dis):\n",
    "    ima = imagePath[:-3] + \"KNN-\"+ str(288) + \"-nearest.png\"\n",
    "    im = Image.open(ima)\n",
    "    pixels = im.load()\n",
    "    vec = [8,24,48,80,120,168,224,288,360,440]\n",
    "    newPath = imagePath[:-3] + \"KNN-288-\"+ str(vec[dis-1]) + \"-nearest.png\"\n",
    "    for dist in range(dis+1):\n",
    "        for i in range(dist,512-dist):\n",
    "            for j in range(dist,512-dist):\n",
    "                w = 0\n",
    "                b = 0\n",
    "                for p in range(i-dist,i+dist+1):\n",
    "                    for q in range(j-dist,j+dist+1):\n",
    "                        if pixels[p,q]==white:\n",
    "                            w+=1\n",
    "                        else:\n",
    "                            b+=1\n",
    "                if w>=b:\n",
    "                    pixels[i,j]=white\n",
    "    dist=8\n",
    "    for i in range(dist,512-dist):\n",
    "        for j in range(dist,512-dist):\n",
    "            w = 0\n",
    "            b = 0\n",
    "            for p in range(i-dist,i+dist+1):\n",
    "                for q in range(j-dist,j+dist+1):\n",
    "                    if pixels[p,q]==white:\n",
    "                        w+=1\n",
    "                    else:\n",
    "                        b+=1\n",
    "            if w>=b:\n",
    "                pixels[i,j]=white\n",
    "    plt.imsave(newPath, im, cmap=cm.gray) \n"
   ]
  },
  {
   "cell_type": "code",
   "execution_count": 31,
   "metadata": {},
   "outputs": [
    {
     "ename": "KeyboardInterrupt",
     "evalue": "",
     "output_type": "error",
     "traceback": [
      "\u001b[1;31m---------------------------------------------------------------------------\u001b[0m",
      "\u001b[1;31mKeyboardInterrupt\u001b[0m                         Traceback (most recent call last)",
      "\u001b[1;32m<ipython-input-31-797cac652fbf>\u001b[0m in \u001b[0;36m<module>\u001b[1;34m\u001b[0m\n\u001b[0;32m      1\u001b[0m \u001b[1;32mfor\u001b[0m \u001b[0mi\u001b[0m \u001b[1;32min\u001b[0m \u001b[0mrange\u001b[0m\u001b[1;33m(\u001b[0m\u001b[1;36m4\u001b[0m\u001b[1;33m)\u001b[0m\u001b[1;33m:\u001b[0m\u001b[1;33m\u001b[0m\u001b[1;33m\u001b[0m\u001b[0m\n\u001b[0;32m      2\u001b[0m     \u001b[1;32mfor\u001b[0m \u001b[0mj\u001b[0m \u001b[1;32min\u001b[0m \u001b[1;33m[\u001b[0m\u001b[1;36m1\u001b[0m\u001b[1;33m,\u001b[0m\u001b[1;36m2\u001b[0m\u001b[1;33m,\u001b[0m\u001b[1;36m3\u001b[0m\u001b[1;33m,\u001b[0m\u001b[1;36m4\u001b[0m\u001b[1;33m,\u001b[0m\u001b[1;36m5\u001b[0m\u001b[1;33m]\u001b[0m\u001b[1;33m:\u001b[0m\u001b[1;33m\u001b[0m\u001b[1;33m\u001b[0m\u001b[0m\n\u001b[1;32m----> 3\u001b[1;33m         \u001b[0mOwnKNearestNeighbours\u001b[0m\u001b[1;33m(\u001b[0m\u001b[0mimagesForClustering\u001b[0m\u001b[1;33m[\u001b[0m\u001b[0mi\u001b[0m\u001b[1;33m]\u001b[0m\u001b[1;33m,\u001b[0m\u001b[0mj\u001b[0m\u001b[1;33m)\u001b[0m\u001b[1;33m\u001b[0m\u001b[1;33m\u001b[0m\u001b[0m\n\u001b[0m",
      "\u001b[1;32m<ipython-input-30-b545127518e5>\u001b[0m in \u001b[0;36mOwnKNearestNeighbours\u001b[1;34m(imagePath, dis)\u001b[0m\n\u001b[0;32m     25\u001b[0m             \u001b[1;32mfor\u001b[0m \u001b[0mp\u001b[0m \u001b[1;32min\u001b[0m \u001b[0mrange\u001b[0m\u001b[1;33m(\u001b[0m\u001b[0mi\u001b[0m\u001b[1;33m-\u001b[0m\u001b[0mdist\u001b[0m\u001b[1;33m,\u001b[0m\u001b[0mi\u001b[0m\u001b[1;33m+\u001b[0m\u001b[0mdist\u001b[0m\u001b[1;33m+\u001b[0m\u001b[1;36m1\u001b[0m\u001b[1;33m)\u001b[0m\u001b[1;33m:\u001b[0m\u001b[1;33m\u001b[0m\u001b[1;33m\u001b[0m\u001b[0m\n\u001b[0;32m     26\u001b[0m                 \u001b[1;32mfor\u001b[0m \u001b[0mq\u001b[0m \u001b[1;32min\u001b[0m \u001b[0mrange\u001b[0m\u001b[1;33m(\u001b[0m\u001b[0mj\u001b[0m\u001b[1;33m-\u001b[0m\u001b[0mdist\u001b[0m\u001b[1;33m,\u001b[0m\u001b[0mj\u001b[0m\u001b[1;33m+\u001b[0m\u001b[0mdist\u001b[0m\u001b[1;33m+\u001b[0m\u001b[1;36m1\u001b[0m\u001b[1;33m)\u001b[0m\u001b[1;33m:\u001b[0m\u001b[1;33m\u001b[0m\u001b[1;33m\u001b[0m\u001b[0m\n\u001b[1;32m---> 27\u001b[1;33m                     \u001b[1;32mif\u001b[0m \u001b[0mpixels\u001b[0m\u001b[1;33m[\u001b[0m\u001b[0mp\u001b[0m\u001b[1;33m,\u001b[0m\u001b[0mq\u001b[0m\u001b[1;33m]\u001b[0m\u001b[1;33m==\u001b[0m\u001b[0mwhite\u001b[0m\u001b[1;33m:\u001b[0m\u001b[1;33m\u001b[0m\u001b[1;33m\u001b[0m\u001b[0m\n\u001b[0m\u001b[0;32m     28\u001b[0m                         \u001b[0mw\u001b[0m\u001b[1;33m+=\u001b[0m\u001b[1;36m1\u001b[0m\u001b[1;33m\u001b[0m\u001b[1;33m\u001b[0m\u001b[0m\n\u001b[0;32m     29\u001b[0m                     \u001b[1;32melse\u001b[0m\u001b[1;33m:\u001b[0m\u001b[1;33m\u001b[0m\u001b[1;33m\u001b[0m\u001b[0m\n",
      "\u001b[1;31mKeyboardInterrupt\u001b[0m: "
     ]
    }
   ],
   "source": [
    "for i in range(4):\n",
    "    for j in [1,2,3,4,5]:\n",
    "        OwnKNearestNeighbours(imagesForClustering[i],j)"
   ]
  },
  {
   "cell_type": "code",
   "execution_count": 37,
   "metadata": {},
   "outputs": [],
   "source": [
    "myNNImages = []\n",
    "vec = [8,24,48,80,120,168,224,288,360,440]\n",
    "for i in range(4):\n",
    "    myPath = imagesForClustering[i][:-3] + \"KNN-288-\"+ str(120) + \"-nearest.png\"\n",
    "    myNNImages.append(myPath)\n",
    "    im = Image.open(myPath)\n",
    "    angle = 180\n",
    "    out = im.rotate(angle)\n",
    "    out.save(myPath)\n",
    "\n",
    "drawRedLineOverCompare(comparePNGPaths,myNNImages,green)\n",
    "def Draw():\n",
    "    pass"
   ]
  }
 ],
 "metadata": {
  "kernelspec": {
   "display_name": "Python 3",
   "language": "python",
   "name": "python3"
  },
  "language_info": {
   "codemirror_mode": {
    "name": "ipython",
    "version": 3
   },
   "file_extension": ".py",
   "mimetype": "text/x-python",
   "name": "python",
   "nbconvert_exporter": "python",
   "pygments_lexer": "ipython3",
   "version": "3.7.1"
  },
  "pycharm": {
   "stem_cell": {
    "cell_type": "raw",
    "metadata": {
     "collapsed": false
    },
    "source": []
   }
  }
 },
 "nbformat": 4,
 "nbformat_minor": 2
}
